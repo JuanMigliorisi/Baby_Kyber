{
  "metadata": {
    "language_info": {
      "codemirror_mode": {
        "name": "python",
        "version": 3
      },
      "file_extension": ".py",
      "mimetype": "text/x-python",
      "name": "python",
      "nbconvert_exporter": "python",
      "pygments_lexer": "ipython3",
      "version": "3.8"
    },
    "kernelspec": {
      "name": "python",
      "display_name": "Python (Pyodide)",
      "language": "python"
    }
  },
  "nbformat_minor": 4,
  "nbformat": 4,
  "cells": [
    {
      "cell_type": "markdown",
      "source": "## First Steps 🛸\n\nHi! it's me, **Nachito**, taking my first baby steps in Python. Let's learn and enjoy together! 😉\n\nAs my previous experience in matlab, I will be using this enviroment mainly to solve mathematical problems and cast simulations.\n\nAll my \"objects\" will be treated as vectors or matrices, so it would be nice to start by defining some of this elements.\n\n**For example:**\nlet's define an escalar, a vector and a matrix, such as:\n\n$$ a = n \\quad n  \\in \\mathbb{R}$$\n\n\n$$\n\\mathbf{v} = \n \\begin{bmatrix}\n    v_{0} & v_{1} & v_{2} \\\\\n \\end{bmatrix}\n$$\n\n\n$$ \\mathbf{A} = \n \\begin{bmatrix}\n    a_{00} & a_{01} & a_{02} \\\\\n    a_{11} & a_{12} & a_{13} \\\\\n    a_{21} & a_{22} & a_{23}\n \\end{bmatrix}\n$$ \n\n**NOTE: We are not using the traditional text book index for the matrices and the vectors, we're using the ones the code would use.**",
      "metadata": {
        "tags": []
      }
    },
    {
      "cell_type": "markdown",
      "source": "First, we import some libraries. They may come in handy in the future:",
      "metadata": {}
    },
    {
      "cell_type": "code",
      "source": "import numpy as np\nfrom matplotlib import pyplot as plt\nfrom scipy import integrate",
      "metadata": {
        "trusted": true
      },
      "execution_count": 1,
      "outputs": []
    },
    {
      "cell_type": "markdown",
      "source": "Now, we write below in a \"code\" type cell",
      "metadata": {}
    },
    {
      "cell_type": "code",
      "source": "a = 1\nv = [1,0,1]\nA = [[1,2,3],\n     [4,5,6],\n     [7,8,9]]",
      "metadata": {
        "tags": [],
        "trusted": true
      },
      "execution_count": 2,
      "outputs": []
    },
    {
      "cell_type": "markdown",
      "source": "Let's print some of this values to familiarize whit the visualization a litte",
      "metadata": {}
    },
    {
      "cell_type": "code",
      "source": "print(\"Matrix A = \",A)\nprint(\"vector v = \",v)",
      "metadata": {
        "trusted": true
      },
      "execution_count": 3,
      "outputs": [
        {
          "name": "stdout",
          "text": "Matrix A =  [[1, 2, 3], [4, 5, 6], [7, 8, 9]]\nvector v =  [1, 0, 1]\n",
          "output_type": "stream"
        }
      ]
    },
    {
      "cell_type": "markdown",
      "source": "Now I want to create an array matrix:",
      "metadata": {}
    },
    {
      "cell_type": "code",
      "source": "Aarray = [[[1,2]],[[3,4]],[[5,6]],[[7,8]]]",
      "metadata": {
        "trusted": true
      },
      "execution_count": 4,
      "outputs": []
    },
    {
      "cell_type": "code",
      "source": "print(\"first element = \",Aarray[0])\nprint(\"last element = \",Aarray[1])",
      "metadata": {
        "trusted": true
      },
      "execution_count": 5,
      "outputs": [
        {
          "name": "stdout",
          "text": "first element =  [[1, 2]]\nlast element =  [[3, 4]]\n",
          "output_type": "stream"
        }
      ]
    },
    {
      "cell_type": "code",
      "source": "## it did not worked as I wanted to\n## what I wanted was: A[0][0] = [1,2]\n## Those are comments!",
      "metadata": {
        "trusted": true
      },
      "execution_count": null,
      "outputs": []
    },
    {
      "cell_type": "markdown",
      "source": "Until now, we've been creating this vectors as nested lists. All the mathematical operation between this objects are defined on a library called numpy",
      "metadata": {}
    },
    {
      "cell_type": "code",
      "source": "A = np.array([[1, 2], [3, 4]])\nB = np.array([[2, 2], [2, 2]])\na = np.array([1, 2, 3])\nb = np.array([4, 5, 6])",
      "metadata": {
        "trusted": true
      },
      "execution_count": 6,
      "outputs": []
    },
    {
      "cell_type": "markdown",
      "source": "Now let's try add and multiply this elements",
      "metadata": {}
    },
    {
      "cell_type": "code",
      "source": "C = A + B\nprint(\"sum:\",C)\nD = 2 * A\nprint(\"escalar mult:\\n\",D)\nC = A.dot(B)\nprint(\"matrix mult:n\",C)\nprint(\"\\na:\", a)\nprint(\"b:\", b)\nc = a.dot(b)\nprint(\"a.dot(b):\", c)",
      "metadata": {
        "trusted": true
      },
      "execution_count": 11,
      "outputs": [
        {
          "name": "stdout",
          "text": "sum: [[3 4]\n [5 6]]\nescalar mult:\n [[2 4]\n [6 8]]\nmatrix mult:n [[ 6  6]\n [14 14]]\n\na: [1 2 3]\nb: [4 5 6]\na.dot(b): 32\n",
          "output_type": "stream"
        }
      ]
    },
    {
      "cell_type": "markdown",
      "source": "Ok, so far so bueno. Let's go with something else (I want to use it in my baby Kyber example):\n\nA matrix in which element is a vector...",
      "metadata": {}
    },
    {
      "cell_type": "code",
      "source": "import numpy as np\n\n# Create a 3-dimensional vector array with shape (2, 2, 4)\nvector_array = np.array([[[1, 1, 1, 1],\n                          [5, 6, 7, 8]],\n                         [[13, 14, 15, 16],\n                          [21, 22, 23, 24]]])\nvector_array2 = np.array([[[1, 1, 1, 1],\n                          [5, 6, 7, 8]],\n                         [[13, 14, 15, 16],\n                          [21, 22, 23, 24]]])\n\n# Accessing elements in the vector array\nprint(vector_array[0, 1, 2]) # Output: 7\nprint(vector_array[1, 1, 0]) # Output: 21\n\n# https://docs.python.org/3/whatsnew/3.5.html#whatsnew-pep-465 \nc =vector_array[0][0] @ vector_array2[0][0] # what is the @ operator? It is the Matrix Multiplication (requires pythom >= 3.5 )\nprint(c)\nprint(\"vector_array.shape: \", vector_array.shape)",
      "metadata": {
        "trusted": true
      },
      "execution_count": 38,
      "outputs": [
        {
          "name": "stdout",
          "text": "7\n21\n4\nvector_array.shape:  (2, 2, 4)\n",
          "output_type": "stream"
        }
      ]
    },
    {
      "cell_type": "code",
      "source": "vector_array[0][1]\n# This worked as I expected!",
      "metadata": {
        "trusted": true
      },
      "execution_count": 17,
      "outputs": [
        {
          "execution_count": 17,
          "output_type": "execute_result",
          "data": {
            "text/plain": "array([5, 6, 7, 8])"
          },
          "metadata": {}
        }
      ]
    },
    {
      "cell_type": "markdown",
      "source": "## Step 2: 'Alea iacta est' 🎲\nIn this previous step we have set the bases to implement some of the most common operations, now let's add some randomness.\n\nWe start we something simple, an integer uniform distribution. \n\nSupose we have a set of ten values\n\n$$\n\\newcommand{\\set}[1]{\\{ #1 \\}}\nS = \\set{0, 1, 2, 3, 4, 5, 6, 7 ,8, 9}\n$$\n\nAn unformly distributed integer random variable is represented as:\n\n$$\nX \\stackrel{}{\\sim} U[0,9]\n$$\n\nThis means\n\n$$\n\\mathbf{P}(X = x) = \\frac{1}{n} \\qquad x \\in S\n$$\n\nbeing $n$ the amount of elemens in $S$\n\n",
      "metadata": {}
    },
    {
      "cell_type": "code",
      "source": "# Generate a vector of 4 integer uniform samples between 0 and 9\nvector = np.random.randint(low=0, high=10, size=4)\n\n# Print the generated vector\nprint(vector)\nvector_array[0][0] = vector\nprint(vector_array[0][0])",
      "metadata": {
        "trusted": true
      },
      "execution_count": 30,
      "outputs": [
        {
          "name": "stdout",
          "text": "[9 6 8 7]\n[9 6 8 7]\n",
          "output_type": "stream"
        }
      ]
    },
    {
      "cell_type": "markdown",
      "source": "As you may know, the result of a Bernoulli experiment can be either **success (1 - one)** or **failure (0 - zero)**. A random variable whichs represent this experiment is following a distribution called Bernolli distribution. The probability of success is ussually called \"p\":\n\n$$\nX \\stackrel{}{\\sim} Ber(p)\n$$\nThis means\n$$\n\\newcommand{\\set}[1]{\\{ #1 \\}}\n\\mathbf{P}(X = x) = p \\qquad x \\in \\set{0, 1}\n$$\nHere is an example of a guy fliping a equiprobable coin 10 times\n",
      "metadata": {}
    },
    {
      "cell_type": "code",
      "source": "# Generate a vector of 10 Bernoulli trials\nn, p = 1, 0.5\ns = np.random.binomial(n, p, 10)\nprint(s)",
      "metadata": {
        "trusted": true
      },
      "execution_count": 31,
      "outputs": [
        {
          "name": "stdout",
          "text": "[0 1 0 0 0 0 0 1 0 1]\n",
          "output_type": "stream"
        }
      ]
    },
    {
      "cell_type": "markdown",
      "source": "Another ineresting distribution is the Binomial distribuition. Samples from this distribution summarize the amount of successes (ones) we obtained have in $n$ Bernoulli experiments with probability $p$. \nHere's an example:",
      "metadata": {}
    },
    {
      "cell_type": "code",
      "source": "n, p = 10, .5  # number of trials, probability of each trial\ns = np.random.binomial(n, p, 10)\n# number of succeses when flipping a coin 10 times, tested 10 times.\nprint(s)\n\ns_hat = n * np.ones(n, dtype=int)\nprint(s_hat)\ns_hat = s_hat - s\nprint(s_hat)",
      "metadata": {
        "trusted": true
      },
      "execution_count": 33,
      "outputs": [
        {
          "name": "stdout",
          "text": "[3 8 7 5 6 5 5 6 4 7]\n[10 10 10 10 10 10 10 10 10 10]\n[7 2 3 5 4 5 5 4 6 3]\n",
          "output_type": "stream"
        }
      ]
    },
    {
      "cell_type": "markdown",
      "source": "Finaly we give an example of a Centered Binomial Distribution (CBN). It consist in $n$ + $k$ Bernoulli trails, we count the number of successes in the first $n$ trials and substrac the number of failures in the last $k$ trials. The probability $p$ is fixed for both sets of trials. Here's an example, we consider $n$ = $k$.\nRN : Attentino, the CBN is  a B(n,p) where we substract for each result -n.p (the mean)\n",
      "metadata": {}
    },
    {
      "cell_type": "code",
      "source": "n, p = 10, .5  # number of trials, probability of each trial\nl = 4 # array lenght\na = np.random.binomial(n, p, l)\nb = np.random.binomial(n, p, l)\n\nprint(a)\nprint(b)\ns = np.zeros(l, dtype=int)\nfor i in range(l):\n    s[i] = a[i] + b[i] - 10\nprint(s)",
      "metadata": {
        "trusted": true
      },
      "execution_count": 39,
      "outputs": [
        {
          "name": "stdout",
          "text": "[6 7 7 5]\n[6 6 3 6]\n[2 3 0 1]\n",
          "output_type": "stream"
        }
      ]
    },
    {
      "cell_type": "markdown",
      "source": "We briefly introduce this distributions because we are going to use them in our **Baby Kyber** example (comming soon...).\n\nIf you want to now about expectation,variance and/or operations between this random variables you can read any book about basic probability or ask ChatGPT. 👾",
      "metadata": {}
    },
    {
      "cell_type": "markdown",
      "source": "# Appendix : Testing some additional functions",
      "metadata": {}
    },
    {
      "cell_type": "code",
      "source": "#testing how the convolution function works here in Python\nnp.convolve([2, 1, 2,2,1,0], [0, 1, 2,])",
      "metadata": {
        "trusted": true
      },
      "execution_count": 35,
      "outputs": [
        {
          "execution_count": 35,
          "output_type": "execute_result",
          "data": {
            "text/plain": "array([0, 2, 5, 4, 6, 5, 2, 0])"
          },
          "metadata": {}
        }
      ]
    },
    {
      "cell_type": "code",
      "source": "# Testing how the modulo operator works here in Python:\na = np.array([12, 13, 15, 4])\nb = np.remainder(a,12)\nb_mod = a % 12\nprint(b)\nprint(b_mod)",
      "metadata": {
        "trusted": true
      },
      "execution_count": 36,
      "outputs": [
        {
          "name": "stdout",
          "text": "[0 1 3 4]\n[0 1 3 4]\n",
          "output_type": "stream"
        }
      ]
    },
    {
      "cell_type": "code",
      "source": "# Playing with the function \"polydiv\"\na = np.array([2, 1, 2])\nb = np.array([0, 1, 2])\nc = np.convolve(a,b)\n\npoly_mod_cyclic = np.array([1, 0, 0, -1])\npoly_mod_negacyclic = np.array([1,0, 0, 0, 1])\n[quotient, reminder_cyclic] = np.polydiv(c, poly_mod_cyclic)\n[quotient, reminder_negacyclic] = np.polydiv(c, poly_mod_negacyclic)\n\nprint(\"Convolution:\",c)\nprint(\"Reminder Cyclic:\", reminder_cyclic)\nprint(\"Reminder Nega-Cyclic:\", reminder_negacyclic)",
      "metadata": {
        "trusted": true
      },
      "execution_count": 37,
      "outputs": [
        {
          "name": "stdout",
          "text": "Convolution: [0 2 5 4 4]\nReminder Cyclic: [5. 4. 6.]\nReminder Nega-Cyclic: [2. 5. 4. 4.]\n",
          "output_type": "stream"
        }
      ]
    },
    {
      "cell_type": "markdown",
      "source": "We will use those last 3 cells to multiply polynomials in this example. Real Kyber implementations use the Number Theoretic Transform (NTT) to multiply elements in $R_q$ (see Appendix).",
      "metadata": {}
    }
  ]
}