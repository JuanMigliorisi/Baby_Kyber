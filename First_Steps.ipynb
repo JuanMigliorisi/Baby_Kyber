{
  "metadata": {
    "language_info": {
      "codemirror_mode": {
        "name": "python",
        "version": 3
      },
      "file_extension": ".py",
      "mimetype": "text/x-python",
      "name": "python",
      "nbconvert_exporter": "python",
      "pygments_lexer": "ipython3",
      "version": "3.8"
    },
    "kernelspec": {
      "name": "python",
      "display_name": "Python (Pyodide)",
      "language": "python"
    }
  },
  "nbformat_minor": 4,
  "nbformat": 4,
  "cells": [
    {
      "cell_type": "markdown",
      "source": "## First Steps 🛸\n\nHi! it's me, **Nachito**, taking my first baby steps in Python. Let's learn and enjoy together! 😉\n\nAs my previous experience in matlab, I will be using this enviroment mainly to solve mathematical problems and cast simulations.\n\nAll my \"objects\" will be treated as vectors or matrices, so it would be nice to start by defining some of this elements.\n\n**For example:**\nlet's define an escalar, a vector and a matrix, such as:\n\n$$ a = n \\quad n  \\in \\mathbb{R}$$\n\n\n$$\n\\mathbf{v} = \n \\begin{bmatrix}\n    v_{0} & v_{1} & v_{2} \\\\\n \\end{bmatrix}\n$$\n\n\n$$ \\mathbf{A} = \n \\begin{bmatrix}\n    a_{00} & a_{01} & a_{02} \\\\\n    a_{11} & a_{12} & a_{13} \\\\\n    a_{21} & a_{22} & a_{23}\n \\end{bmatrix}\n$$ \n\n**NOTE: We are not using the traditional text book index, we use the ones that the code would use.**",
      "metadata": {
        "tags": []
      }
    },
    {
      "cell_type": "markdown",
      "source": "First, we import some libraries. They may come in handy in the future:",
      "metadata": {}
    },
    {
      "cell_type": "code",
      "source": "import numpy as np\nfrom matplotlib import pyplot as plt\nfrom scipy import integrate",
      "metadata": {
        "trusted": true
      },
      "execution_count": 7,
      "outputs": []
    },
    {
      "cell_type": "markdown",
      "source": "Now, we write below in a \"code\" type cell",
      "metadata": {}
    },
    {
      "cell_type": "code",
      "source": "a = 1\nv = [1,0,1]\nA = [[1,2,3],\n     [4,5,6],\n     [7,8,9]]",
      "metadata": {
        "tags": [],
        "trusted": true
      },
      "execution_count": 8,
      "outputs": []
    },
    {
      "cell_type": "markdown",
      "source": "Let's print some of this values to familiarize whit the visualization a litte",
      "metadata": {}
    },
    {
      "cell_type": "code",
      "source": "print(\"Matrix A = \",A)\nprint(\"vector v = \",v)",
      "metadata": {
        "trusted": true
      },
      "execution_count": 17,
      "outputs": [
        {
          "name": "stdout",
          "text": "Matrix A =  [[1, 2, 3], [4, 5, 6], [7, 8, 9]]\nvector v =  [[1], [2], [3]]\n",
          "output_type": "stream"
        }
      ]
    },
    {
      "cell_type": "markdown",
      "source": "Now I want to create an array matrix:",
      "metadata": {}
    },
    {
      "cell_type": "code",
      "source": "Aarray = [[[1,2]],[[3,4]],[[5,6]],[[7,8]]]",
      "metadata": {
        "trusted": true
      },
      "execution_count": 18,
      "outputs": []
    },
    {
      "cell_type": "code",
      "source": "print(\"first element = \",Aarray[0])\nprint(\"last element = \",Aarray[1])",
      "metadata": {
        "trusted": true
      },
      "execution_count": 27,
      "outputs": [
        {
          "name": "stdout",
          "text": "first element =  [[1, 2]]\nlast element =  [[3, 4]]\n",
          "output_type": "stream"
        }
      ]
    },
    {
      "cell_type": "code",
      "source": "## it did not worked as I wanted to\n## what I wanted was: A[0][0] = [1,2]\n## Those are comments!",
      "metadata": {
        "trusted": true
      },
      "execution_count": 50,
      "outputs": []
    },
    {
      "cell_type": "markdown",
      "source": "Until now, we've been creating this vectors as nested lists. All the mathematical operation between this objects are defined on a library called numpy",
      "metadata": {}
    },
    {
      "cell_type": "code",
      "source": "A = np.array([[1, 2], [3, 4]])\nB = np.array([[2, 2], [2, 2]])\na = np.array([1, 2, 3])\nb = np.array([4, 5, 6])",
      "metadata": {
        "trusted": true
      },
      "execution_count": 48,
      "outputs": []
    },
    {
      "cell_type": "markdown",
      "source": "Now let's try add and multiply this elements",
      "metadata": {}
    },
    {
      "cell_type": "code",
      "source": "C = A + B\nprint(\"sum:\",C)\nD = 2 * A\nprint(\"escalar mult:\",D)\nC = A.dot(B)\nprint(\"matrix mult:\",C)\nprint(a)\nc = a.dot(b)\nprint(c)",
      "metadata": {
        "trusted": true
      },
      "execution_count": 49,
      "outputs": [
        {
          "name": "stdout",
          "text": "sum: [[3 4]\n [5 6]]\nescalar mult: [[2 4]\n [6 8]]\nmatrix mult: [[ 6  6]\n [14 14]]\n[1 2 3]\n32\n",
          "output_type": "stream"
        }
      ]
    },
    {
      "cell_type": "markdown",
      "source": "Ok, so far so bueno. Let's go with something else (I want to use it in my baby Kyber example):\n\nA matrix in which element is a vector...",
      "metadata": {}
    },
    {
      "cell_type": "code",
      "source": "",
      "metadata": {},
      "execution_count": null,
      "outputs": []
    }
  ]
}