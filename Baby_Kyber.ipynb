{
  "metadata": {
    "kernelspec": {
      "name": "python",
      "display_name": "Python (Pyodide)",
      "language": "python"
    },
    "language_info": {
      "codemirror_mode": {
        "name": "python",
        "version": 3
      },
      "file_extension": ".py",
      "mimetype": "text/x-python",
      "name": "python",
      "nbconvert_exporter": "python",
      "pygments_lexer": "ipython3",
      "version": "3.8"
    },
    "colab": {
      "provenance": []
    }
  },
  "nbformat_minor": 0,
  "nbformat": 4,
  "cells": [
    {
      "cell_type": "markdown",
      "source": [
        "## CRYSTALS-Kyber: A Baby Kyber implementation on Python 🛸\n",
        "\n",
        "Hi! this is **Grupo 03**, we see our faces again! (well, actually that's not true, because this is a computer...whatever).\n",
        "\n",
        "If you enjoyed our first steps, that means you are ready to join us in this new adventure.\n",
        "\n",
        "Kyber is a Post-Quantum Key-Establishment Mechanism (PQ KEM) base on the Module - Learning with Errors problem\n",
        "\n",
        "In this notebook we will show you an example of Kyber at an escalated level, called \"Baby Kyber\"."
      ],
      "metadata": {
        "id": "sLMwXe9_Zr97"
      }
    },
    {
      "cell_type": "markdown",
      "source": [
        "First, some notation. In Kyber we work with a ring of integer coefficient ($mod$ $q$) and grade $n-1$ polynomials.\n",
        "\n",
        "Each element on a Kyber vector belongs to $R_{q}$, this being:\n",
        "$$ R_{q} = \\mathbb{Z}_q (X) / (X^n  + 1) $$\n",
        "For instance, a polynomial $a_{(X)}$ $\\in$ $R_{q}$:\n",
        "$$  a_{(X)} = \\sum_{i=1}^{n-1} = a_i X^i = a_0 + a_1 X + a_2 X^2 + \\cdots + a_{n-1}X^{n-1} \\qquad (a_i \\thinspace mod \\thinspace q)$$\n",
        "Any vector in this example will have $k$ elements, this means, a vector $\\mathbf{v}$ in this field could be:\n",
        "$$ \\mathbf{v} \\in R_{q}^k \\qquad \\mathbf{v} = [v_1, v_2, \\cdots, v_k]^T \\qquad v_i \\in R_q \\quad i = (1,2,\\cdots,k)$$\n",
        "\n",
        "In our baby kyber example we consider:\n",
        "\n",
        "\n",
        "| **Parameter**  |   **Value** |\n",
        "|----------------|:-----------:|\n",
        "|       $n$      |     4       |\n",
        "| $q$            |     17      |\n",
        "| $k$            |     2       |\n",
        "\n",
        "<div style=\"text-align:center\"> note that $q$ is a prime number and chosen to be equal to $2^n + 1$\n",
        "\n"
      ],
      "metadata": {
        "id": "yqMsLfmrZr9_"
      }
    },
    {
      "cell_type": "code",
      "source": [
        "import numpy as np\n",
        "import math\n",
        "q = 17 #module\n",
        "n = 4 #grade\n",
        "k = 2 #number of elements"
      ],
      "metadata": {
        "trusted": true,
        "id": "GHX8fPm6Zr-A"
      },
      "outputs": [],
      "execution_count": 2
    },
    {
      "cell_type": "markdown",
      "source": [
        "<div style=\"text-align:center\"><img src=\"attachment:803c0728-8626-4863-b729-3201e7b49b4e.png\" width=\"220\" />\n",
        "</div>\n",
        "\n",
        "<div style=\"text-align:center\"> Kyber Crystal being forge by Midjourney<div>"
      ],
      "metadata": {
        "id": "SXNNzv1UZr-B"
      }
    },
    {
      "cell_type": "markdown",
      "source": [
        "Now let's get down to business.\n",
        "\n",
        "We can split the Kyber KEM in three steps:\n",
        " - **Key Generation**\n",
        " - **Encryption**\n",
        " - **Decription**\n",
        "\n",
        "In the **Key Generation** step we genete both the public and the secret key $(p_k,s_k)$\n",
        "\n",
        "$$ p_k: \\mathbf{t} = \\mathbf{A} \\thinspace \\mathbf{s} + \\mathbf{e}$$\n",
        "$$ s_k: \\mathbf{s}$$\n",
        "\n",
        "- $\\mathbf{A}$ $\\in$ $R_q^{k \\thinspace x \\thinspace k}$ is a polynomial matrix. Each coefficient in $\\mathbf{A}$ is uniformly sampled. Kyber standard uses a *PARSE* function to sample this coefficients.\n"
      ],
      "metadata": {
        "id": "3PCbG34kZr-B"
      }
    },
    {
      "cell_type": "code",
      "source": [
        "# Generate matrix A from an uniformly random distribution\n",
        "#---------------------------------------------------------------\n",
        "A = np.zeros([2, 2, 4], dtype=int)\n",
        "for i in range(k):\n",
        "    for j in range(k):\n",
        "        A[i][j] = np.random.randint(low=0, high=q, size=n)\n",
        "#  ---------- end of matrix A generation -----------------------\n",
        "print(\"Matrix A:\")\n",
        "#print(A)\n",
        "print(\"A11:\", A[0][0])\n",
        "print(\"A12:\", A[0][1])\n",
        "print(\"A21:\", A[1][0])\n",
        "print(\"A22:\", A[1][1])"
      ],
      "metadata": {
        "trusted": true,
        "colab": {
          "base_uri": "https://localhost:8080/"
        },
        "id": "YZYi7ZMEZr-B",
        "outputId": "5af3e4c1-e9c1-4876-eb84-e0543c7ae175"
      },
      "outputs": [
        {
          "output_type": "stream",
          "name": "stdout",
          "text": [
            "Matrix A:\n",
            "A11: [15 15 14  1]\n",
            "A12: [13  1  2 14]\n",
            "A21: [16  7 14  2]\n",
            "A22: [ 6 15  9 11]\n"
          ]
        }
      ],
      "execution_count": 3
    },
    {
      "cell_type": "markdown",
      "source": [
        "- $\\mathbf{s}$ $\\in$ $R_q^k$   is the secret key, a noise vector. Noise in Kyber is sample from a Centered Binomial Distribution (CBD).\n",
        "- $\\mathbf{e}$ $\\in$ $R_q^k$  is another noise vector, it is the error we add in our M-LWE problem.\n"
      ],
      "metadata": {
        "id": "8xa8OhFHZr-C"
      }
    },
    {
      "cell_type": "code",
      "source": [
        "# Generate s , e from an CBD\n",
        "#---------------------------------------------------------------\n",
        "trials, p = 2, .5  # number of trials, probability of each trial\n",
        "l = 4 # array lenght\n",
        "# Noise vector s:\n",
        "s = np.zeros((k,l), dtype=int)\n",
        "for j in range(k):\n",
        "    a = np.random.binomial(trials, p, l)\n",
        "    b = np.random.binomial(trials, p, l)\n",
        "    for i in range(l):\n",
        "        s[j][i] = a[i] - b[i]\n",
        "# Noise vector e:\n",
        "e = np.zeros((k,l), dtype=int)\n",
        "for j in range(k):\n",
        "    a = np.random.binomial(trials, p, l)\n",
        "    b = np.random.binomial(trials, p, l)\n",
        "    for i in range(l):\n",
        "        e[j][i] = a[i] - b[i]\n",
        "# ------------- end noise generation -------------------------------\n",
        "print(\"Vector s:\")\n",
        "print(s)\n",
        "print(\"Vector e:\")\n",
        "print(e)"
      ],
      "metadata": {
        "trusted": true,
        "colab": {
          "base_uri": "https://localhost:8080/"
        },
        "id": "NM9jg0yaZr-C",
        "outputId": "b2b39609-2263-4e8c-8730-cc8d619cb81c"
      },
      "outputs": [
        {
          "output_type": "stream",
          "name": "stdout",
          "text": [
            "Vector s:\n",
            "[[ 1 -1  1  0]\n",
            " [ 2 -1  0  0]]\n",
            "Vector e:\n",
            "[[-1  1 -2 -1]\n",
            " [-1  1 -1  2]]\n"
          ]
        }
      ],
      "execution_count": 4
    },
    {
      "cell_type": "code",
      "source": [
        "#First we multiply the verctor s with A:\n",
        "Axs = np.zeros((k,l), dtype=int)\n",
        "poly_mod_negacyclic = np.array([1,0, 0, 0, 1])\n",
        "\n",
        "for i in range(k):\n",
        "    for j in range(k):\n",
        "        aux = np.convolve(A[i][j],s[j])\n",
        "        aux = aux % q\n",
        "        [quo, rem] = np.polydiv(aux, poly_mod_negacyclic)\n",
        "        if (len(rem) < l):\n",
        "            rem = np.concatenate((np.zeros(1),rem))\n",
        "        rem = rem % q\n",
        "        Axs[i] = Axs[i] + rem\n",
        "Axs = Axs % q\n",
        "#then we add the error e\n",
        "t = Axs + e\n",
        "t = t % q\n",
        "\n",
        "print(\"A o s:\\n\",Axs)\n",
        "print(\"public key t:\\n\",t)\n",
        "print(\"secret key s:\\n\",s)"
      ],
      "metadata": {
        "trusted": true,
        "colab": {
          "base_uri": "https://localhost:8080/"
        },
        "id": "2dMMRri2Zr-D",
        "outputId": "4c722174-4afc-42fa-ff92-777a2e4562eb"
      },
      "outputs": [
        {
          "output_type": "stream",
          "name": "stdout",
          "text": [
            "A o s:\n",
            " [[11  9 12  0]\n",
            " [ 8  7  4  8]]\n",
            "public key t:\n",
            " [[10 10 10 16]\n",
            " [ 7  8  3 10]]\n",
            "secret key s:\n",
            " [[ 1 -1  1  0]\n",
            " [ 2 -1  0  0]]\n"
          ]
        }
      ],
      "execution_count": 5
    },
    {
      "cell_type": "markdown",
      "source": [
        "So far we manage to accomplish the first step of our implementation, so let's move onto the next step: **encryption**\n",
        "\n",
        "Encrypting requires the public key $\\mathbf{t}$ and a message $m$ as input, an generates the ciphertext $c$ as output. In this simple example, we will use the same matrix $\\mathbf{A}$ we sample in the **Key Generation** step, but in real Kyber it is generated freshly as part of every encryption.\n",
        "\n",
        "Let's say we want to send is the number 9, which can be represented as a 4 bit digit in BCD:\n",
        "\n",
        "the number 3 in binary is 0011 $\\rightarrow$ we encode it as a polynomial array:\n"
      ],
      "metadata": {
        "id": "CFxzjA5_Zr-D"
      }
    },
    {
      "cell_type": "code",
      "source": [
        "q2 = math.ceil(q/2) #module over two ceiled\n",
        "# ENCODE:\n",
        "# ----------------------------\n",
        "message = np.array( [0, 0, 1, 1], dtype=int)\n",
        "print(\"message:\\n\",message)\n",
        "print(\"message as a polynomial array:\\n\",message)\n",
        "message = message * q2\n",
        "#------end of encodig---------\n",
        "print(\"endoded message:\\n\",message)"
      ],
      "metadata": {
        "trusted": true,
        "colab": {
          "base_uri": "https://localhost:8080/"
        },
        "id": "VwpwlIAZZr-E",
        "outputId": "fc2ea991-1c2f-46f0-dca5-8d7e0a0344cb"
      },
      "outputs": [
        {
          "output_type": "stream",
          "name": "stdout",
          "text": [
            "message:\n",
            " [0 0 1 1]\n",
            "message as a polynomial array:\n",
            " [0 0 1 1]\n",
            "endoded message:\n",
            " [0 0 9 9]\n"
          ]
        }
      ],
      "execution_count": 7
    },
    {
      "cell_type": "markdown",
      "source": [
        "We also need some noise vectors for the ciphertext generation\n",
        "- $\\mathbf{r}$ $\\in$ $R_q^{k}$ is a polynomial noise vector sampled from a CBD:\n",
        "- $\\mathbf{e_1}$ $\\in$ $R_q^k$ is a polynomial noise vector sampled from a CBD:\n",
        "- $\\mathbf{e_2}$ $\\in$ $R_q$  is a polynomial sampled from a CBD:\n"
      ],
      "metadata": {
        "id": "im2U940xZr-E"
      }
    },
    {
      "cell_type": "code",
      "source": [
        "# Generate r , e1, e2 from a CBD\n",
        "#---------------------------------------------------------------\n",
        "trials, p = 2, .5  # number of trials, probability of each trial\n",
        "l = 4 # array lenght\n",
        "# Noise vector s:\n",
        "r = np.zeros((k,l), dtype=int)\n",
        "for j in range(k):\n",
        "    a = np.random.binomial(trials, p, l)\n",
        "    b = np.random.binomial(trials, p, l)\n",
        "    for i in range(l):\n",
        "        r[j][i] = a[i] - b[i]\n",
        "# Noise vector e:\n",
        "e1 = np.zeros((k,l), dtype=int)\n",
        "for j in range(k):\n",
        "    a = np.random.binomial(trials, p, l)\n",
        "    b = np.random.binomial(trials, p, l)\n",
        "    for i in range(l):\n",
        "        e1[j][i] = a[i] - b[i]\n",
        "e2 = np.zeros(l, dtype=int)\n",
        "a = np.random.binomial(trials, p, l)\n",
        "b = np.random.binomial(trials, p, l)\n",
        "for i in range(l):\n",
        "    e2[i] = a[i] - b[i]\n",
        "# ------------- end noise generation -------------------------------\n",
        "print(\"error r:\\n\", r)\n",
        "print(\"error e1:\\n\", e1)\n",
        "print(\"error e2:\\n\", e2)"
      ],
      "metadata": {
        "trusted": true,
        "colab": {
          "base_uri": "https://localhost:8080/"
        },
        "id": "MVhApWoYZr-E",
        "outputId": "c4e8cfe5-f8b2-404e-ca0a-ffdfd710dabb"
      },
      "outputs": [
        {
          "output_type": "stream",
          "name": "stdout",
          "text": [
            "error r:\n",
            " [[ 1 -1 -2 -1]\n",
            " [ 1  0  0  2]]\n",
            "error e1:\n",
            " [[ 0 -1  1  0]\n",
            " [ 0 -1 -1 -1]]\n",
            "error e2:\n",
            " [-1 -1  0  0]\n"
          ]
        }
      ],
      "execution_count": 8
    },
    {
      "cell_type": "markdown",
      "source": [
        "Kyber ciphertext consist in two values: $\\mathbf{u}$, a polynomial vector in $R_q^{k}$, and $v$ a polynomial in $R_q$.\n",
        "\n",
        "$$ \\mathbf{u} = \\mathbf{A}^T \\thinspace \\mathbf{r} + \\mathbf{e_1}  $$\n",
        "\n",
        "$$ v = \\mathbf{t}^T \\thinspace \\mathbf{r} + e_2 + m  $$"
      ],
      "metadata": {
        "id": "7DTvzeaKZr-E"
      }
    },
    {
      "cell_type": "markdown",
      "source": [
        "To obtain $\\mathbf{u}$ first we transpose the matrix $\\mathbf{A}$, multiply it by $\\mathbf{r}$"
      ],
      "metadata": {
        "id": "zDy8dWe1Zr-E"
      }
    },
    {
      "cell_type": "code",
      "source": [
        "# Transpose Matrix A:\n",
        "AT = np.zeros((k,k,l),dtype = int)\n",
        "print(A)\n",
        "AT[0][0] = A[0][0]\n",
        "AT[1][0] = A[0][1]\n",
        "AT[0][1] = A[1][0]\n",
        "AT[1][1] = A[1][1]\n",
        "print(\"MATRIX A TRANSPOSE\")\n",
        "print(\"AT11:\", AT[0][0])\n",
        "print(\"AT12:\", AT[0][1])\n",
        "print(\"AT21:\", AT[1][0])\n",
        "print(\"AT22:\", AT[1][1])\n",
        "\n",
        "print(AT)\n",
        "# Multiply AT with r\n",
        "ATxr = np.zeros((k,l), dtype=int)\n",
        "for i in range(k):\n",
        "    for j in range(k):\n",
        "        aux = np.convolve(AT[i][j],r[j])\n",
        "        aux = aux % q\n",
        "        [quo, rem] = np.polydiv(aux, poly_mod_negacyclic)\n",
        "        if (len(rem) < l):\n",
        "            rem = np.concatenate((np.zeros(1),rem))\n",
        "        rem = rem % q\n",
        "        ATxr[i] = ATxr[i] + rem\n",
        "ATxr = ATxr % q\n",
        "print(\"A TRANSPOSE by r:\\n\",ATxr)"
      ],
      "metadata": {
        "trusted": true,
        "colab": {
          "base_uri": "https://localhost:8080/"
        },
        "id": "q0TUaYqBZr-E",
        "outputId": "29f71b7b-0b89-4315-cc57-7630161469c0"
      },
      "outputs": [
        {
          "output_type": "stream",
          "name": "stdout",
          "text": [
            "[[[10 10  9  1]\n",
            "  [16 13  8  7]]\n",
            "\n",
            " [[ 9  0  2  9]\n",
            "  [15  9  4 11]]]\n",
            "MATRIX A TRANSPOSE\n",
            "AT11: [10 10  9  1]\n",
            "AT12: [9 0 2 9]\n",
            "AT21: [16 13  8  7]\n",
            "AT22: [15  9  4 11]\n",
            "[[[10 10  9  1]\n",
            "  [ 9  0  2  9]]\n",
            "\n",
            " [[16 13  8  7]\n",
            "  [15  9  4 11]]]\n",
            "A TRANSPOSE by r:\n",
            " [[ 7  1 10 12]\n",
            " [ 5 16  1  5]]\n"
          ]
        }
      ],
      "execution_count": null
    },
    {
      "cell_type": "markdown",
      "source": [
        "Now, we add the noise vector $\\mathbf{e_1}$"
      ],
      "metadata": {
        "id": "kq__mQ9AZr-E"
      }
    },
    {
      "cell_type": "code",
      "source": [
        "#now we add the error e1\n",
        "u = ATxr + e1\n",
        "u = u % q\n",
        "# ---------- end u ------------------------------\n",
        "print(\"u:\\n\",u)"
      ],
      "metadata": {
        "trusted": true,
        "colab": {
          "base_uri": "https://localhost:8080/"
        },
        "id": "m9qkutKfZr-E",
        "outputId": "a2017aa4-b465-439b-f5a3-053726768d05"
      },
      "outputs": [
        {
          "output_type": "stream",
          "name": "stdout",
          "text": [
            "u:\n",
            " [[ 6  3 10 12]\n",
            " [ 4 16  3  3]]\n"
          ]
        }
      ],
      "execution_count": null
    },
    {
      "cell_type": "markdown",
      "source": [
        "To generate te polynomial $v$, we do:\n",
        "$$ v = \\mathbf{t}^T \\thinspace \\mathbf{r} + e_2 + m  $$"
      ],
      "metadata": {
        "id": "0GlBJDoNZr-F"
      }
    },
    {
      "cell_type": "code",
      "source": [
        "# Obtain v:\n",
        "# ----------------------------------------------\n",
        "v_aux = np.zeros(n, dtype=int)\n",
        "for j in range(k): # here we multiply t (transpose) by r (RN. Study well this partm in a real-implem this is done by the NTT)\n",
        "    aux = np.convolve(t[j],r[j])\n",
        "    aux = aux % q\n",
        "    [quo, rem] = np.polydiv(aux, poly_mod_negacyclic)\n",
        "    if (len(rem) < l):\n",
        "        rem = np.concatenate((np.zeros(1),rem))\n",
        "    rem = rem % q\n",
        "    v_aux = v_aux+ rem\n",
        "v_aux = v_aux % q\n",
        "# here i've multiply t^T * r, now we add e2\n",
        "v_aux = v_aux + e2\n",
        "v_aux = v_aux % q\n",
        "# finally we add the encoded message\n",
        "v = v_aux + message\n",
        "v = v % q\n",
        "# ---------- end v ------------------------------\n",
        "print(\"ciphertext , c = (u,v)\")\n",
        "print(\"u:\\n\",u)\n",
        "print(\"v:\\n\",v)"
      ],
      "metadata": {
        "trusted": true,
        "colab": {
          "base_uri": "https://localhost:8080/"
        },
        "id": "0MMJyrVMZr-F",
        "outputId": "6b515256-462d-467b-9376-eccf578b9a5a"
      },
      "outputs": [
        {
          "output_type": "stream",
          "name": "stdout",
          "text": [
            "ciphertext , c = (u,v)\n",
            "u:\n",
            " [[ 6  3 10 12]\n",
            " [ 4 16  3  3]]\n",
            "v:\n",
            " [ 5. 12. 12.  6.]\n"
          ]
        }
      ],
      "execution_count": null
    },
    {
      "cell_type": "markdown",
      "source": [
        "Finally we implement the **Decryption** step, where we recover the message by doing the following operation:\n",
        "\n",
        "$$ m = v - \\mathbf{s}^T \\thinspace \\mathbf{u}$$"
      ],
      "metadata": {
        "id": "ZJ8H7f1jZr-F"
      }
    },
    {
      "cell_type": "code",
      "source": [
        "m_noisy = np.zeros(l, dtype=int)\n",
        "for j in range(k):\n",
        "    aux = np.convolve(s[j],u[j])\n",
        "    aux = aux % q\n",
        "    [quo, rem] = np.polydiv(aux, poly_mod_negacyclic)\n",
        "    if (len(rem) < l):\n",
        "        rem = np.concatenate((np.zeros(1),rem))\n",
        "    rem = rem % q\n",
        "    m_noisy = m_noisy + rem\n",
        "m_noisy = m_noisy % q\n",
        "\n",
        "m_noisy = v - m_noisy\n",
        "m_noisy = m_noisy % q\n",
        "print(\"Noisy message:\\n\", m_noisy)\n",
        "#finally we decode the message:\n",
        "m = np.zeros(l, dtype=int)\n",
        "for i in range(len(m_noisy)):\n",
        "    if ( math.floor(q/4) < m_noisy[i] <= math.floor((q*(3/4)))): # here we map the resutl to be binary (0 or 1)\n",
        "        m[i] = 1\n",
        "    else:\n",
        "        m[i] = 0\n",
        "print(\"message:\\n\", m)"
      ],
      "metadata": {
        "trusted": true,
        "colab": {
          "base_uri": "https://localhost:8080/"
        },
        "id": "tuNNo2BcZr-F",
        "outputId": "f08fe6f4-6259-4ea0-d0bf-eda48f8884a3"
      },
      "outputs": [
        {
          "output_type": "stream",
          "name": "stdout",
          "text": [
            "Noisy message:\n",
            " [11.  0.  5.  6.]\n",
            "message:\n",
            " [1 0 1 1]\n"
          ]
        }
      ],
      "execution_count": null
    },
    {
      "cell_type": "markdown",
      "source": [
        "## Appendix A: convolutions and transforms 🐛 ➡ 🦋\n",
        "\n",
        "A core concept in our implmentation is **convolution**.\n",
        "\n",
        "Let $a_{[k]}$ and $b_{[k]}$ be two finite discrete sequences of length $n$, such that:\n",
        "\n",
        "$$ a[k] = (a[0], a[1],a[2], \\cdots,a[n-1]) \\qquad b[k] = (b[0], b[1],b[2], \\cdots,b[n-1]) $$\n",
        "\n",
        "The **Lineal** or **acyclic** convolution between this sequences is definded as:\n",
        "\n",
        "$$ \\tilde{z[k]} =  \\sum_{k=1}^{n-1} a[i] b[k-i]  $$\n",
        "\n",
        "Where $\\tilde{z}[k]$ is a sequence of length $2n -1$ (this means it has $2n -2 $ elements).\n",
        "\n",
        "On the one hand the **cyclic** convolution of two sequences of length $n$, $a[k]$ and $b[k]$, can be defined as another length $n$ sequence $z[k]$ such that:\n",
        "\n",
        "$$ z[k] = \\tilde{z}[k] + \\tilde{z}[k + n] \\qquad where \\qquad \\thinspace \\tilde{z}[2n - 1] = 0$$\n",
        "\n",
        "On the other hand, the **nega-cyclic** convolution can be defined as another lentgh $n$ sequence $y[k]$ being this one:\n",
        "\n",
        "$$ y[k] = \\tilde{z}[k] - \\tilde{z}[k + n] \\qquad where \\qquad \\thinspace \\tilde{z}[2n - 1] = 0$$$$\n",
        "\n",
        "\n",
        "Now, let $A(x)$ and $B(x)$ two polynomials of degree at most $n - 1 $ where:\n",
        "\n",
        "$$ A(x) =  \\sum_{k=1}^{n-1} a[k] x^k \\qquad B(x) =  \\sum_{k=1}^{n-1} b[k] x^k $$\n",
        "\n",
        "It is easy to proof that the linear convolution between $ a[k]$ and $b[k]$ hols the multiplication of the polynonials $A(x)$ and $B(x)$\n",
        "\n",
        "$$ A(x)B(x) = \\sum_{k=1}^{2n-2} \\tilde{z}[k] x^k $$\n",
        "\n"
      ],
      "metadata": {
        "id": "sTEcTumyZr-F"
      }
    }
  ]
}